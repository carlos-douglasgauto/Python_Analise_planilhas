{
  "nbformat": 4,
  "nbformat_minor": 0,
  "metadata": {
    "colab": {
      "name": "Condor_planilhas_Hotéis.ipynb",
      "provenance": [],
      "collapsed_sections": [],
      "mount_file_id": "1PYbwpTuqq-Y4AwfxMuEbDbLATD1O1rwA",
      "authorship_tag": "ABX9TyOcg5tU5ijzV4qGOyMxxjjX",
      "include_colab_link": true
    },
    "kernelspec": {
      "name": "python3",
      "display_name": "Python 3"
    },
    "language_info": {
      "name": "python"
    }
  },
  "cells": [
    {
      "cell_type": "markdown",
      "metadata": {
        "id": "view-in-github",
        "colab_type": "text"
      },
      "source": [
        "<a href=\"https://colab.research.google.com/github/carlos-douglasgauto/Python_Analise_planilhas/blob/main/Condor_planilhas_Hot%C3%A9is.ipynb\" target=\"_parent\"><img src=\"https://colab.research.google.com/assets/colab-badge.svg\" alt=\"Open In Colab\"/></a>"
      ]
    },
    {
      "cell_type": "markdown",
      "metadata": {
        "id": "p-wmCAJVxQJi"
      },
      "source": [
        "# **OLÁ, SEJA BEM VINDA(O).**\n",
        "**SIGA OS PASSOS PARA ELABORAÇÃO DAS PLANILHAS**\n",
        "\n",
        "1- COLOQUE AS PLANILHAS STUR, WTS E MATRICULAS FURNAS\n",
        "\n",
        "2- APERTE CTRL+F9\n",
        "\n",
        "3- CLIQUE NO BOTÃO DO MEIO PARA ATUALIZAR E FAÇA O DOWNLOAD DOS ARQUIVOS GERADOS.\n",
        "\n",
        "TENHA UM BOM TRABALHO!!!"
      ]
    },
    {
      "cell_type": "code",
      "metadata": {
        "id": "1btUIOo8Duq2"
      },
      "source": [
        "import pandas as pd\n",
        "import numpy as np\n",
        "import glob\n",
        "import matplotlib.pyplot as plt"
      ],
      "execution_count": 1502,
      "outputs": []
    },
    {
      "cell_type": "code",
      "metadata": {
        "id": "O2EDpJaEqBXO"
      },
      "source": [
        "#ler planilhas\n",
        "df_stur_hoteis = pd.read_excel(\"/content/STUR HOTEIS.xlsx\", skiprows=[0])\n",
        "df_wts_hoteis = pd.read_excel(\"/content/WTS HOTEIS.xls\")\n",
        "df_autorizador = pd.read_excel(\"/content/MATRICULAS FURNAS.xls\")"
      ],
      "execution_count": 1503,
      "outputs": []
    },
    {
      "cell_type": "code",
      "metadata": {
        "id": "mbAz48v2qwv7"
      },
      "source": [
        "df_autorizador['AUTORIZADOR'] = df_autorizador['AUTORIZADOR'].apply(lambda _: str(_))"
      ],
      "execution_count": 1504,
      "outputs": []
    },
    {
      "cell_type": "code",
      "metadata": {
        "colab": {
          "base_uri": "https://localhost:8080/",
          "height": 204
        },
        "id": "L-RqAJreq0kq",
        "outputId": "ddf8af1a-a450-422a-b4d8-97dd91b3b29e"
      },
      "source": [
        "df_autorizador['Nome_Autorizador'] = df_autorizador['AUTORIZADOR'].str[:20]\n",
        "df_autorizador.head()"
      ],
      "execution_count": 1505,
      "outputs": [
        {
          "output_type": "execute_result",
          "data": {
            "text/html": [
              "<div>\n",
              "<style scoped>\n",
              "    .dataframe tbody tr th:only-of-type {\n",
              "        vertical-align: middle;\n",
              "    }\n",
              "\n",
              "    .dataframe tbody tr th {\n",
              "        vertical-align: top;\n",
              "    }\n",
              "\n",
              "    .dataframe thead th {\n",
              "        text-align: right;\n",
              "    }\n",
              "</style>\n",
              "<table border=\"1\" class=\"dataframe\">\n",
              "  <thead>\n",
              "    <tr style=\"text-align: right;\">\n",
              "      <th></th>\n",
              "      <th>CÓDIGO_AUTORIZADOR</th>\n",
              "      <th>AUTORIZADOR</th>\n",
              "      <th>Nome_Autorizador</th>\n",
              "    </tr>\n",
              "  </thead>\n",
              "  <tbody>\n",
              "    <tr>\n",
              "      <th>0</th>\n",
              "      <td>22659</td>\n",
              "      <td>ABEL DE JESUS FORMOSO</td>\n",
              "      <td>ABEL DE JESUS FORMOS</td>\n",
              "    </tr>\n",
              "    <tr>\n",
              "      <th>1</th>\n",
              "      <td>23008</td>\n",
              "      <td>ABILIO JOSE DA ROCHA REIS CARDOSO</td>\n",
              "      <td>ABILIO JOSE DA ROCHA</td>\n",
              "    </tr>\n",
              "    <tr>\n",
              "      <th>2</th>\n",
              "      <td>22321</td>\n",
              "      <td>ABIRAN FIALHO FOGACA</td>\n",
              "      <td>ABIRAN FIALHO FOGACA</td>\n",
              "    </tr>\n",
              "    <tr>\n",
              "      <th>3</th>\n",
              "      <td>23086</td>\n",
              "      <td>ABNER AUGUSTO PACHECO PIRES</td>\n",
              "      <td>ABNER AUGUSTO PACHEC</td>\n",
              "    </tr>\n",
              "    <tr>\n",
              "      <th>4</th>\n",
              "      <td>19988</td>\n",
              "      <td>ADAILTON MENDES MACHADO</td>\n",
              "      <td>ADAILTON MENDES MACH</td>\n",
              "    </tr>\n",
              "  </tbody>\n",
              "</table>\n",
              "</div>"
            ],
            "text/plain": [
              "  CÓDIGO_AUTORIZADOR                        AUTORIZADOR      Nome_Autorizador\n",
              "0              22659              ABEL DE JESUS FORMOSO  ABEL DE JESUS FORMOS\n",
              "1              23008  ABILIO JOSE DA ROCHA REIS CARDOSO  ABILIO JOSE DA ROCHA\n",
              "2              22321               ABIRAN FIALHO FOGACA  ABIRAN FIALHO FOGACA\n",
              "3              23086        ABNER AUGUSTO PACHECO PIRES  ABNER AUGUSTO PACHEC\n",
              "4              19988            ADAILTON MENDES MACHADO  ADAILTON MENDES MACH"
            ]
          },
          "metadata": {},
          "execution_count": 1505
        }
      ]
    },
    {
      "cell_type": "code",
      "metadata": {
        "id": "_7y-06B_q4ur"
      },
      "source": [
        "#colunas que estão com os ítens selecionados\n",
        "colunas_selecionadas_aut = ['CÓDIGO_AUTORIZADOR', 'Nome_Autorizador']"
      ],
      "execution_count": 1506,
      "outputs": []
    },
    {
      "cell_type": "code",
      "metadata": {
        "id": "d6WPQc5Uq7F8"
      },
      "source": [
        "#filtra e organiza os dados pelas colunas que foram passadas\n",
        "df_autorizador = df_autorizador.filter(items=colunas_selecionadas_aut)\n",
        "df_autorizador.head()"
      ],
      "execution_count": null,
      "outputs": []
    },
    {
      "cell_type": "code",
      "metadata": {
        "id": "CANKJM1_BgQv"
      },
      "source": [
        "df_wts_hoteis['ID_RESERVAWTS'] = df_wts_hoteis['ID_RESERVAWTS'].apply(lambda _: str(_))"
      ],
      "execution_count": 1508,
      "outputs": []
    },
    {
      "cell_type": "code",
      "metadata": {
        "id": "5jUmBqbaBhM7"
      },
      "source": [
        "df_stur_hoteis[['id_reservastur', 'num_ped2']] = df_stur_hoteis['Número Pedido'].str.split('-', expand=True)"
      ],
      "execution_count": 1509,
      "outputs": []
    },
    {
      "cell_type": "code",
      "metadata": {
        "id": "rZWEX5z4Blpr"
      },
      "source": [
        "df_stur_hoteis['id_reservastur'] = df_stur_hoteis['id_reservastur'].apply(lambda _: str(_))"
      ],
      "execution_count": 1510,
      "outputs": []
    },
    {
      "cell_type": "code",
      "metadata": {
        "id": "TQTuMyGkBn5b"
      },
      "source": [
        "###############\n",
        "############3\n",
        "fusao_hoteis2 = pd.merge(df_stur_hoteis,df_wts_hoteis, how='left', left_on=['id_reservastur'],right_on=['ID_RESERVAWTS'])\n"
      ],
      "execution_count": 1511,
      "outputs": []
    },
    {
      "cell_type": "code",
      "metadata": {
        "id": "fBNPiYZf2Jnl"
      },
      "source": [
        "print(fusao_hoteis2)"
      ],
      "execution_count": null,
      "outputs": []
    },
    {
      "cell_type": "code",
      "metadata": {
        "id": "avXIKS4F0m9j"
      },
      "source": [
        "fusao_hoteis2 = fusao_hoteis2[fusao_hoteis2['Matrícula'].notna()]\n",
        "print(fusao_hoteis2)"
      ],
      "execution_count": null,
      "outputs": []
    },
    {
      "cell_type": "code",
      "metadata": {
        "id": "ffOdreZ2jV--"
      },
      "source": [
        "fusao_hoteis2.head()"
      ],
      "execution_count": null,
      "outputs": []
    },
    {
      "cell_type": "code",
      "metadata": {
        "id": "LdXZLKC9PINu"
      },
      "source": [
        "fusao_hoteis2.insert(loc=1, column='data_chegada_txt',value=\" \")"
      ],
      "execution_count": 1515,
      "outputs": []
    },
    {
      "cell_type": "code",
      "metadata": {
        "id": "oak68_Pe0t0L"
      },
      "source": [
        "fusao_hoteis2.columns.values"
      ],
      "execution_count": null,
      "outputs": []
    },
    {
      "cell_type": "code",
      "metadata": {
        "id": "nwR9A4JBviiL"
      },
      "source": [
        "#colunas que estão com os ítens selecionados\n",
        "colunas_selecionadas_hotel_depois = ['data_chegada_txt', 'Matrícula', 'Nome [Passageiro]', 'ucher', 'id_reservastur', 'N°.Reg.Gov.', 'Fornecedor do Serviço', 'Valor Diária [Apartamento]', 'Antecedência', 'Valor Diária Balcão [Apartamento]', 'Valor Geral Taxas (Cliente)', 'Tarifa Cheia Cliente', 'Check-In / Início', 'Check-Out / Término', 'Fatura [Recebimento]', 'Data Emissao Fatura [Recebimento]', 'C.Custo\\xa0Cliente\\xa0(Descrição)', 'TAXA FEE', 'taxa_fee_paga', 'fatura_paga', 'Autorizador', 'DATA_APROVACAO_y', 'HORA_APROVACAO_y', 'Motivo da Viagem']"
      ],
      "execution_count": 1517,
      "outputs": []
    },
    {
      "cell_type": "code",
      "metadata": {
        "id": "HVZbNRx4HrNk"
      },
      "source": [
        "#filtra e organiza os dados pelas colunas que foram passadas\n",
        "fusao_hoteis3 = fusao_hoteis2.filter(items=colunas_selecionadas_hotel_depois)"
      ],
      "execution_count": 1518,
      "outputs": []
    },
    {
      "cell_type": "code",
      "metadata": {
        "id": "XS8G_Rxoacou"
      },
      "source": [
        "#RENOMEIA TODAS AS COLUNAS\n",
        "fusao_hoteis3.rename(columns={'data_chegada_txt': 'data_chegada_txt', 'Matrícula': 'mat_hospede', 'Nome [Passageiro]': 'nome_hospede', 'ucher': 'n_voucher', 'id_reservastur':'n_req', 'N°.Reg.Gov.': 'n_req_sap', 'Fornecedor do Serviço':'nome_hotel', 'Valor Diária [Apartamento]': 'valor_diaria', 'Antecedência': 'Qtde_ diarias', 'Valor Diária Balcão [Apartamento]': 'total_diarias', 'Valor Geral Taxas (Cliente)': 'Extras', 'Tarifa Cheia Cliente': 'valor_total_pago', 'Check-In / Início': 'data_check_in', 'Check-Out / Término': 'data_check_out', 'Fatura [Recebimento]': 'n_fatura', 'Data Emissao Fatura [Recebimento]': 'data_emissao_fatura', 'C.Custo\\xa0Cliente\\xa0(Descrição)': 'destinacao_contabil', 'TAXA FEE': 'taxa_fee', 'taxa_fee_paga': 'taxa_fee_paga', 'fatura_paga': 'fatura_paga','Autorizador': 'mat_aprovador', 'DATA_APROVACAO_y': 'data_aprovacao', 'HORA_APROVACAO_y': 'hora_aprovacao', 'Motivo da Viagem': 'justificativa_de_viagem'}, inplace=True)"
      ],
      "execution_count": 1519,
      "outputs": []
    },
    {
      "cell_type": "code",
      "metadata": {
        "id": "uY-jv6yiilsy"
      },
      "source": [
        "fusao_hoteis3.head()"
      ],
      "execution_count": null,
      "outputs": []
    },
    {
      "cell_type": "code",
      "metadata": {
        "id": "lioVF5lqba59"
      },
      "source": [
        "fusao_hoteis3['data_emissao_fatura'] = pd.to_datetime(fusao_hoteis3['data_emissao_fatura'])"
      ],
      "execution_count": 1521,
      "outputs": []
    },
    {
      "cell_type": "code",
      "metadata": {
        "id": "3BMt5GqohADP"
      },
      "source": [
        "fusao_hoteis3['data_emissao_fatura'] = fusao_hoteis3['data_emissao_fatura'].dt.strftime('%d/%m/%Y')"
      ],
      "execution_count": 1522,
      "outputs": []
    },
    {
      "cell_type": "code",
      "metadata": {
        "id": "mkWS4k-ihABO"
      },
      "source": [
        "fusao_hoteis3['data_check_in'] = pd.to_datetime(fusao_hoteis3['data_check_in'])"
      ],
      "execution_count": 1523,
      "outputs": []
    },
    {
      "cell_type": "code",
      "metadata": {
        "id": "OQNJ72yrg_-_"
      },
      "source": [
        "fusao_hoteis3['data_check_in'] = fusao_hoteis3['data_check_in'].dt.strftime('%d/%m/%Y')"
      ],
      "execution_count": 1524,
      "outputs": []
    },
    {
      "cell_type": "code",
      "metadata": {
        "id": "cO6phN2HhFhV"
      },
      "source": [
        "fusao_hoteis3['data_check_out'] = pd.to_datetime(fusao_hoteis3['data_check_in'])"
      ],
      "execution_count": 1525,
      "outputs": []
    },
    {
      "cell_type": "code",
      "metadata": {
        "id": "hJMd1KbDhFe-"
      },
      "source": [
        "fusao_hoteis3['data_check_out'] = fusao_hoteis3['data_check_out'].dt.strftime('%d/%m/%Y')"
      ],
      "execution_count": 1526,
      "outputs": []
    },
    {
      "cell_type": "code",
      "metadata": {
        "id": "znHZyF5cjrMv"
      },
      "source": [
        "fusao_hoteis3 = pd.merge(fusao_hoteis3,df_autorizador, how='left', left_on=['mat_aprovador'],right_on=['Nome_Autorizador'])\n",
        "fusao_hoteis3.head()"
      ],
      "execution_count": null,
      "outputs": []
    },
    {
      "cell_type": "code",
      "metadata": {
        "id": "mh03aXNQGfeI"
      },
      "source": [
        "print(fusao_hoteis3)"
      ],
      "execution_count": null,
      "outputs": []
    },
    {
      "cell_type": "code",
      "metadata": {
        "id": "wWOi22CJlKNG"
      },
      "source": [
        "fusao_hoteis3.columns.values"
      ],
      "execution_count": null,
      "outputs": []
    },
    {
      "cell_type": "code",
      "metadata": {
        "id": "2q5y1dit49ct"
      },
      "source": [
        "fusao_hoteis3['data_aprovacao'] = pd.to_datetime(fusao_hoteis3['data_aprovacao'])"
      ],
      "execution_count": 1530,
      "outputs": []
    },
    {
      "cell_type": "code",
      "metadata": {
        "id": "IzgRiELS49ZD"
      },
      "source": [
        "fusao_hoteis3['data_aprovacao'] = fusao_hoteis3['data_aprovacao'].dt.strftime('%d/%m/%Y')"
      ],
      "execution_count": 1531,
      "outputs": []
    },
    {
      "cell_type": "code",
      "metadata": {
        "id": "gxmitWvZ49Wb"
      },
      "source": [
        ""
      ],
      "execution_count": 1531,
      "outputs": []
    },
    {
      "cell_type": "code",
      "metadata": {
        "id": "bIBRKpB8ljK6"
      },
      "source": [
        "#colunas que estão com os ítens selecionados\n",
        "colunas_selecionadas_hotel_depois = ['data_chegada_txt', 'mat_hospede', 'nome_hospede', 'n_voucher', 'n_req', 'n_req_sap', 'nome_hotel', 'valor_diaria', 'Qtde_ diarias', 'total_diarias', 'Extras', 'valor_total_pago', 'data_check_in', 'data_check_out', 'n_fatura', 'data_emissao_fatura', 'destinacao_contabil', 'taxa_fee', 'taxa_fee_paga', 'fatura_paga', 'CÓDIGO_AUTORIZADOR', 'data_aprovacao', 'hora_aprovacao', 'justificativa_de_viagem',]"
      ],
      "execution_count": 1532,
      "outputs": []
    },
    {
      "cell_type": "code",
      "metadata": {
        "id": "d5mFEdGflnDf"
      },
      "source": [
        "#filtra e organiza os dados pelas colunas que foram passadas\n",
        "fusao_hoteis3 = fusao_hoteis3.filter(items=colunas_selecionadas_hotel_depois)"
      ],
      "execution_count": 1533,
      "outputs": []
    },
    {
      "cell_type": "code",
      "metadata": {
        "id": "g5jX94m1lu--"
      },
      "source": [
        "#RENOMEIA TODAS AS COLUNAS\n",
        "fusao_hoteis3.rename(columns={'data_chegada_txt': 'data_chegada_txt', 'mat_hospede':'mat_hospede', 'nome_hospede':'nome_hospede', 'n_voucher':'n_voucher', 'n_req':'n_req', 'n_req_sap':'n_req_sap', 'nome_hotel':'nome_hotel', 'valor_diaria':'valor_diaria', 'Qtde_ diarias':'Qtde_diarias', 'total_diarias':'total_diarias', 'Extras':'Extras', 'valor_total_pago':'valor_total_pago', 'data_check_in':'data_check_in', 'data_check_out':'data_check_out', 'n_fatura':'n_fatura', 'data_emissao_fatura':'data_emissao_fatura', 'destinacao_contabil':'destinacao_contabil', 'taxa_fee':'taxa_fee', 'taxa_fee_paga': 'taxa_fee_paga', 'fatura_paga': 'fatura_paga', 'CÓDIGO_AUTORIZADOR':'mat_aprovador', 'data_aprovacao':'data_aprovacao', 'hora_aprovacao':'hora_aprovacao', 'justificativa_de_viagem':'justificativa_de_viagem',}, inplace=True)"
      ],
      "execution_count": 1534,
      "outputs": []
    },
    {
      "cell_type": "code",
      "metadata": {
        "id": "TTPzLKVim5Rh"
      },
      "source": [
        "def changeValor_diaria(elemento):\n",
        "  return '{:.2f}'.format(elemento)\n",
        "\n",
        "fusao_hoteis3['valor_diaria'] = fusao_hoteis3['valor_diaria'].apply(changeValor_diaria)"
      ],
      "execution_count": 1535,
      "outputs": []
    },
    {
      "cell_type": "code",
      "metadata": {
        "id": "PHGm4uZMsRdK"
      },
      "source": [
        "fusao_hoteis3['valor_diaria'] = fusao_hoteis3['valor_diaria'].apply(lambda _: str(_).replace(\".\", \",\"))"
      ],
      "execution_count": 1536,
      "outputs": []
    },
    {
      "cell_type": "code",
      "metadata": {
        "id": "Vf7LiYYkmMJm"
      },
      "source": [
        "print(fusao_hoteis3)"
      ],
      "execution_count": null,
      "outputs": []
    },
    {
      "cell_type": "code",
      "metadata": {
        "id": "MpHVcGM4YKc0"
      },
      "source": [
        "fusao_hoteis3.info()"
      ],
      "execution_count": null,
      "outputs": []
    },
    {
      "cell_type": "code",
      "metadata": {
        "id": "eJXQYCley2cL"
      },
      "source": [
        "fusao_hoteis3.to_excel('Teste_HOTEiS.xlsx', index=False)"
      ],
      "execution_count": 1539,
      "outputs": []
    }
  ]
}